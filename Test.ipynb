{
  "nbformat": 4,
  "nbformat_minor": 0,
  "metadata": {
    "colab": {
      "provenance": [],
      "authorship_tag": "ABX9TyPK6OPfp6/Uvf/YY4IMyMwX",
      "include_colab_link": true
    },
    "kernelspec": {
      "name": "python3",
      "display_name": "Python 3"
    },
    "language_info": {
      "name": "python"
    }
  },
  "cells": [
    {
      "cell_type": "markdown",
      "metadata": {
        "id": "view-in-github",
        "colab_type": "text"
      },
      "source": [
        "<a href=\"https://colab.research.google.com/github/Kommmi/Stochastic-dynamical-systems/blob/main/Test.ipynb\" target=\"_parent\"><img src=\"https://colab.research.google.com/assets/colab-badge.svg\" alt=\"Open In Colab\"/></a>"
      ]
    },
    {
      "cell_type": "code",
      "execution_count": null,
      "metadata": {
        "id": "ZzCjFv3xeUJ1"
      },
      "outputs": [],
      "source": [
        "import numpy as np"
      ]
    },
    {
      "cell_type": "code",
      "source": [
        "a = np.random.rand(10)\n",
        "b = np.random.rand(10)\n",
        "c = a + b\n",
        "print(c)"
      ],
      "metadata": {
        "colab": {
          "base_uri": "https://localhost:8080/"
        },
        "id": "o4FJzP9Oef8G",
        "outputId": "5250f2d1-d40e-4135-c9c6-af09c1744c05"
      },
      "execution_count": null,
      "outputs": [
        {
          "output_type": "stream",
          "name": "stdout",
          "text": [
            "[1.05761802 0.62151176 0.84521283 1.54985587 0.79926185 0.67054318\n",
            " 1.25206469 0.58997226 1.68707834 1.11543945]\n"
          ]
        }
      ]
    },
    {
      "cell_type": "code",
      "source": [
        "!git clone https://github.com/Kommmi/Stochastic-dynamical-systems.git\n",
        "import os\n",
        "from IPython.display import clear_output\n",
        "import sys\n",
        "os.chdir('Stochastic-dynamical-systems')\n",
        "!pip install POT joblib\n",
        "from Gamma import *\n",
        "clear_output()\n",
        "print(\"Module ready to go :)\")"
      ],
      "metadata": {
        "id": "Drpbmi6_eoLo",
        "colab": {
          "base_uri": "https://localhost:8080/"
        },
        "outputId": "8b845022-84ef-465f-871a-503383066158"
      },
      "execution_count": 7,
      "outputs": [
        {
          "output_type": "stream",
          "name": "stdout",
          "text": [
            "Module ready to go :)\n"
          ]
        }
      ]
    },
    {
      "cell_type": "markdown",
      "source": [
        "### Tent Map"
      ],
      "metadata": {
        "id": "gE6RZe04Jhkn"
      }
    },
    {
      "cell_type": "code",
      "source": [
        "from Maps_1D import *\n",
        "from scipy.stats import linregress\n",
        "import matplotlib.pyplot as plt # Import matplotlib.pyplot\n",
        "\n",
        "\n",
        "# ---------------------------------------------------------------------------\n",
        "# 1. Parameters\n",
        "# ---------------------------------------------------------------------------\n",
        "\n",
        "a = 1.999                  # control parameter\n",
        "Ns = 1_000_000             # number of samples\n",
        "xmin, xmax = 0.0, 1.0    # domain bounds\n",
        "traj_len = 20            # number of iterations\n",
        "nits = 10                # ensemble repetitions\n",
        "eps = 0.005              # perturbation amplitude\n",
        "nbins = 50              # fixed number of histogram bins\n",
        "index_limits = (3, 11)  # scaling region for fitting\n",
        "\n",
        "# ---------------------------------------------------------------------------\n",
        "# 2. Generate Initial Ensemble\n",
        "# ---------------------------------------------------------------------------\n",
        "\n",
        "x0s = Sampling_uniform(Ns, xmin, xmax)\n",
        "params = (a,)\n",
        "\n",
        "# ---------------------------------------------------------------------------\n",
        "# 3. Compute Γ, log-distance evolution, and time array\n",
        "# ---------------------------------------------------------------------------\n",
        "\n",
        "Gamma_val, ln_avg_dist, t_arr = Gamma_SDE_1D_additive(\n",
        "    Evolution_rule=tent_map,\n",
        "    params=params,\n",
        "    x0s=x0s,\n",
        "    traj_len=traj_len,\n",
        "    nits=nits,\n",
        "    eps=eps,\n",
        "    Bins_rule=\"Custom\",\n",
        "    custom_bins=nbins,\n",
        "    index_limits=index_limits,\n",
        "    rval=True\n",
        ")\n",
        "\n",
        "# ---------------------------------------------------------------------------\n",
        "# 4. Fit and Plot Results (Equivalent to LLE_Distribution.pdf)\n",
        "# ---------------------------------------------------------------------------\n",
        "\n",
        "i0, i1 = index_limits\n",
        "slope, intercept, r_value, _, _ = linregress(t_arr[i0:i1], ln_avg_dist[i0:i1])\n",
        "\n",
        "plt.figure(figsize=(5, 3))\n",
        "plt.rc('text', usetex=False) # Change usetex to False\n",
        "plt.rc('font', family='serif')\n",
        "\n",
        "plt.scatter(t_arr, ln_avg_dist, color='gray', alpha=0.5, label=r'$\\langle \\log(d_i/d_0) \\rangle$')\n",
        "plt.plot(t_arr[i0:i1],\n",
        "         slope * t_arr[i0:i1] + intercept,\n",
        "         'g--',\n",
        "         linewidth=2,\n",
        "         label=fr'$\\Gamma = {slope:.3f}$')\n",
        "\n",
        "plt.axvline(i0, color='purple', linestyle=':')\n",
        "plt.axvline(i1, color='purple', linestyle=':')\n",
        "plt.xlabel(r'$i$', fontsize=16)\n",
        "plt.ylabel(r'$\\langle \\log(d_i/d_0) \\rangle$', fontsize=16)\n",
        "plt.legend(fontsize=12)\n",
        "plt.tight_layout()\n",
        "plt.show()\n",
        "\n",
        "# Print summary\n",
        "print(f\"Γ (Gamma) = {slope:.4f},  R² = {r_value**2:.4f}\")"
      ],
      "metadata": {
        "colab": {
          "base_uri": "https://localhost:8080/",
          "height": 324
        },
        "id": "tSSGWPExHHGD",
        "outputId": "b378cc30-0289-4305-a3bd-94393a0ce9c9"
      },
      "execution_count": 10,
      "outputs": [
        {
          "output_type": "display_data",
          "data": {
            "text/plain": [
              "<Figure size 500x300 with 1 Axes>"
            ],
            "image/png": "[encoded data removed]"
          },
          "metadata": {}
        },
        {
          "output_type": "stream",
          "name": "stdout",
          "text": [
            "Γ (Gamma) = -0.4559,  R² = 0.9434\n"
          ]
        }
      ]
    },
    {
      "cell_type": "markdown",
      "source": [
        "### Homogenous sine map"
      ],
      "metadata": {
        "id": "t1CUaWKjJlFT"
      }
    },
    {
      "cell_type": "code",
      "source": [],
      "metadata": {
        "id": "GM-tX-HrItJh"
      },
      "execution_count": null,
      "outputs": []
    },
    {
      "cell_type": "markdown",
      "source": [
        "### Heterogenous sine map"
      ],
      "metadata": {
        "id": "4ln-QsRZJrEA"
      }
    },
    {
      "cell_type": "code",
      "source": [],
      "metadata": {
        "id": "hxuPnGd5JuPg"
      },
      "execution_count": null,
      "outputs": []
    }
  ]
}